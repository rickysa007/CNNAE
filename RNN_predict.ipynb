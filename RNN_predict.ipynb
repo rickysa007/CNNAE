{
 "cells": [
  {
   "cell_type": "code",
   "execution_count": 1,
   "metadata": {},
   "outputs": [],
   "source": [
    "import subprocess as sp\n",
    "import os\n",
    "import silence_tensorflow.auto # pylint: disable=unused-import\n",
    "import tensorflow as tf\n",
    "\n",
    "def mask_unused_gpus(leave_unmasked=1):\n",
    "\n",
    "  ACCEPTABLE_AVAILABLE_MEMORY = 1024\n",
    "  COMMAND = \"nvidia-smi --query-gpu=memory.free --format=csv\"\n",
    "\n",
    "  try:\n",
    "    _output_to_list = lambda x: x.decode('ascii').split('\\n')[:-1]\n",
    "    memory_free_info = _output_to_list(sp.check_output(COMMAND.split()))[1:]\n",
    "    memory_free_values = [int(x.split()[0]) for i, x in enumerate(memory_free_info)]\n",
    "    available_gpus = [i for i, x in enumerate(memory_free_values) if x > ACCEPTABLE_AVAILABLE_MEMORY]\n",
    "\n",
    "    if len(available_gpus) < leave_unmasked: raise ValueError('Found only %d usable GPUs in the system' % len(available_gpus))\n",
    "    gpus = tf.config.experimental.list_physical_devices(device_type='GPU')\n",
    "    tf.config.experimental.set_visible_devices(gpus[available_gpus[0]], 'GPU')\n",
    "  \n",
    "  except Exception as e:\n",
    "    print('\"nvidia-smi\" is probably not installed. GPUs are not masked', e)\n",
    "\n",
    "mask_unused_gpus()\n",
    "\n",
    "\n",
    "import absl.logging\n",
    "import matplotlib.pyplot as plt\n",
    "import numpy as np\n",
    "import shutil\n",
    "from sklearn.ensemble import IsolationForest\n",
    "\n",
    "absl.logging.set_verbosity(absl.logging.ERROR)"
   ]
  },
  {
   "cell_type": "code",
   "execution_count": 2,
   "metadata": {},
   "outputs": [
    {
     "name": "stdout",
     "output_type": "stream",
     "text": [
      "<bound method Model.summary of <tensorflow.python.keras.engine.functional.Functional object at 0x7fbfbdc9a7c0>>\n"
     ]
    }
   ],
   "source": [
    "autoencoder = tf.keras.models.load_model('/home/ricky/RNNAE/RNN_autoencoder_model')\n",
    "print(autoencoder.summary)"
   ]
  },
  {
   "cell_type": "code",
   "execution_count": 3,
   "metadata": {},
   "outputs": [
    {
     "name": "stdout",
     "output_type": "stream",
     "text": [
      "<bound method Model.summary of <tensorflow.python.keras.engine.functional.Functional object at 0x7fbfbdc9acd0>>\n"
     ]
    }
   ],
   "source": [
    "encoder = tf.keras.models.load_model('/home/ricky/RNNAE/RNN_encoder_model')\n",
    "print(encoder.summary)"
   ]
  },
  {
   "cell_type": "code",
   "execution_count": 4,
   "metadata": {},
   "outputs": [],
   "source": [
    "os.chdir('/home/ricky/RNNAE/RNN_npy')\n",
    "\n",
    "def import_data(x):\n",
    "\n",
    "    x = np.load(f'{x}.npy', allow_pickle=True)\n",
    "    x = np.asarray(x).astype('float32')\n",
    "\n",
    "    return x\n",
    "\n",
    "input = import_data('input')\n",
    "input_train = import_data('input_train')\n",
    "input_test = import_data('input_test')\n",
    "type_train = import_data('type_train')\n",
    "type_test = import_data('type_test')"
   ]
  },
  {
   "cell_type": "code",
   "execution_count": 5,
   "metadata": {},
   "outputs": [],
   "source": [
    "os.chdir('/home/ricky/RNNAE')\n",
    "\n",
    "data_GP = np.array(np.load('data_GP.npy', allow_pickle=True))\n",
    "data_meta_GP = np.array(np.load('data_meta_GP.npy', allow_pickle=True))"
   ]
  },
  {
   "cell_type": "code",
   "execution_count": 42,
   "metadata": {},
   "outputs": [],
   "source": [
    "def rnnae_test(autoencoder, input_tmp, mask_tmp):\n",
    "\n",
    "    yhat = autoencoder.predict(x=[input_tmp, mask_tmp], verbose=1)\n",
    "    yhat_loss = autoencoder.evaluate(x=[input_tmp, mask_tmp], y=None, verbose=1)\n",
    "\n",
    "    return yhat\n",
    "\n",
    "def rnnae_test2(autoencoder, input_tmp):\n",
    "\n",
    "    yhat = autoencoder.predict(x=input_tmp, verbose=1)\n",
    "    yhat_loss = autoencoder.evaluate(x=input_tmp, y=None, verbose=1)\n",
    "\n",
    "    return yhat\n",
    "\n",
    "def latent_space_demo(encoder, input_tmp):\n",
    "\n",
    "    latent_space = encoder.predict(input_tmp, verbose=1)\n",
    "\n",
    "    os.chdir('/home/ricky/RNNAE/RNN_latent_space_graph')\n",
    "\n",
    "    for i in range(latent_space.shape[1] - 1):\n",
    "        for j in range(latent_space.shape[1] - 1 - i):\n",
    "            fig = plt.figure(figsize=(6, 6))\n",
    "            plt.grid()\n",
    "            plt.scatter(latent_space[:,i], latent_space[:,i+j+1], s=8)\n",
    "            plt.title(f'id {i} vs id {i+j+1}.pdf')\n",
    "            plt.savefig(f'id_{i}_vs_id_{i+j+1}.pdf')\n",
    "            plt.close()\n",
    "\n",
    "    return latent_space\n",
    "\n",
    "def isolation_forest(latent_space, split):\n",
    "\n",
    "    clf = IsolationForest(n_estimators=100, warm_start=True)\n",
    "    clf.fit(latent_space)\n",
    "    anomaly = clf.score_samples(latent_space)\n",
    "    anomaly_id = np.argsort(anomaly)\n",
    "\n",
    "    shutil.rmtree('/home/ricky/RNNAE/RNN_anomaly_graph')\n",
    "    os.makedirs('/home/ricky/RNNAE/RNN_anomaly_graph')\n",
    "\n",
    "    for i, ano in enumerate(anomaly_id):\n",
    "        shutil.copy(f'/home/ricky/RNNAE/GP_graph/{data_meta_GP[ano+split][-1]}.pdf', f'/home/ricky/RNNAE/RNN_anomaly_graph/{i}_{data_meta_GP[ano+split][-1]}.pdf')\n",
    "\n",
    "    return anomaly\n",
    "\n",
    "def reconstruction_graph(input_tmp, yhat, split, filters=['u', 'g', 'i']):\n",
    "\n",
    "    color1 = ['darkviolet', 'seagreen', 'crimson', 'maroon']\n",
    "    color2 = ['darkmagenta', 'darkgreen', 'firebrick', 'darkred']\n",
    "\n",
    "    shutil.rmtree('/home/ricky/RNNAE/RNN_reconstruction_graph')\n",
    "    os.makedirs('/home/ricky/RNNAE/RNN_reconstruction_graph')\n",
    "\n",
    "    for i in range(input_tmp.shape[0]):\n",
    "\n",
    "        os.chdir('/home/ricky/RNNAE/RNN_reconstruction_graph')\n",
    "\n",
    "        isExist = os.path.exists(f'./{data_meta_GP[i+split][-1]}')\n",
    "\n",
    "        if not isExist:\n",
    "            os.makedirs(f'./{data_meta_GP[i+split][-1]}')\n",
    "            os.chdir(f'./{data_meta_GP[i+split][-1]}')\n",
    "\n",
    "        for j, filter in enumerate(filters):\n",
    "            fig = plt.figure(figsize=(12, 8))\n",
    "            ax = fig.add_subplot(1, 1, 1)\n",
    "\n",
    "            plt.gca().invert_yaxis()\n",
    "\n",
    "            # And a corresponding grid\n",
    "            ax.grid(which='major', alpha=0.8)\n",
    "            ax.grid(which='minor', alpha=0.3)\n",
    "\n",
    "            plt.xlabel('Timestep', fontsize=15)\n",
    "            plt.ylabel('Absolute Magnitude', fontsize=15)\n",
    "\n",
    "            plt.xlim(-50, 185)\n",
    "\n",
    "            plt.title(f'{data_meta_GP[i+split][-1]}, {data_meta_GP[i+split][-2]}, {filter}')\n",
    "\n",
    "            #plt.errorbar(data_GP[i+split][0], data_GP[i+split][j+1], y_err=data_GP[i+split][j+4], fmt='v')\n",
    "\n",
    "            plt.scatter(input_tmp[i,:data_meta_GP[i+split][0],0], input_tmp[i,:data_meta_GP[i+split][0],j+1], s=2, marker='o', color=color1[j], label=f'test data'.format('o'))\n",
    "            plt.scatter(input_tmp[i,:data_meta_GP[i+split][0],0], yhat[i,:data_meta_GP[i+split][0],j], s=12, marker='X', color=color2[j], label=f'reconstruction'.format('X'))\n",
    "            \n",
    "            plt.legend()\n",
    "\n",
    "            plt.savefig(f'./{data_meta_GP[i][-1]}_{filter}_band.pdf')\n",
    "\n",
    "            plt.close()\n",
    "\n",
    "    return"
   ]
  },
  {
   "cell_type": "code",
   "execution_count": 46,
   "metadata": {},
   "outputs": [],
   "source": [
    "def main():\n",
    "    yhat = rnnae_test2(autoencoder, input_train[0])\n",
    "    #yhat = rnnae_test2(autoencoder, input_test[0])\n",
    "    latent_space = latent_space_demo(encoder, input_train[0])\n",
    "    anomaly = isolation_forest(latent_space, 0)\n",
    "    reconstruction_graph(input_train[0], yhat, 0)\n",
    "    #reconstruction_graph(input_test[0], yhat, int(0.8*(data_GP.shape[0])))"
   ]
  },
  {
   "cell_type": "code",
   "execution_count": 47,
   "metadata": {},
   "outputs": [
    {
     "name": "stdout",
     "output_type": "stream",
     "text": [
      "29/29 [==============================] - 1s 40ms/step\n",
      "29/29 [==============================] - 1s 39ms/step - loss: 0.0065\n",
      "29/29 [==============================] - 1s 25ms/step\n"
     ]
    }
   ],
   "source": [
    "if __name__ == '__main__':\n",
    "    main()"
   ]
  }
 ],
 "metadata": {
  "interpreter": {
   "hash": "6fd5f9b1e866c99d651d9463042ecc141ef8b22e3ba40cca842d175b0faf240e"
  },
  "kernelspec": {
   "display_name": "Python 3.8.5 64-bit ('pytorch_gpu': conda)",
   "language": "python",
   "name": "python3"
  },
  "language_info": {
   "codemirror_mode": {
    "name": "ipython",
    "version": 3
   },
   "file_extension": ".py",
   "mimetype": "text/x-python",
   "name": "python",
   "nbconvert_exporter": "python",
   "pygments_lexer": "ipython3",
   "version": "3.9.7"
  },
  "orig_nbformat": 4
 },
 "nbformat": 4,
 "nbformat_minor": 2
}
