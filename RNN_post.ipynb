{
 "cells": [
  {
   "cell_type": "code",
   "execution_count": 1,
   "metadata": {},
   "outputs": [],
   "source": [
    "import os\n",
    "import numpy as np\n",
    "import keras\n",
    "import matplotlib.pyplot as plt\n",
    "import shutil\n",
    "from keras.models import Sequential\n",
    "from keras.layers import LSTM, GRU, Dense, Dropout, Layer, Bidirectional, Conv2D, Flatten, BatchNormalization\n",
    "from keras.layers import RepeatVector, concatenate\n",
    "from keras.layers import TimeDistributed\n",
    "from keras.callbacks import EarlyStopping\n",
    "from keras.utils.vis_utils import plot_model\n",
    "from keras.optimizers import Adam\n",
    "from sklearn.ensemble import IsolationForest\n",
    "import keras.backend as K\n",
    "import tensorflow as tf"
   ]
  },
  {
   "cell_type": "code",
   "execution_count": 2,
   "metadata": {},
   "outputs": [
    {
     "data": {
      "text/plain": [
       "<bound method Model.summary of <tensorflow.python.keras.engine.functional.Functional object at 0x000002534F3EDE50>>"
      ]
     },
     "execution_count": 2,
     "metadata": {},
     "output_type": "execute_result"
    }
   ],
   "source": [
    "autoencoder = tf.keras.models.load_model(r'C:\\\\Users\\\\ricky\\\\FYP\\\\RNNAE_public\\\\RNN_autoencoder_model')\n",
    "print(autoencoder.summary)"
   ]
  },
  {
   "cell_type": "code",
   "execution_count": 9,
   "metadata": {},
   "outputs": [
    {
     "name": "stdout",
     "output_type": "stream",
     "text": [
      "WARNING:tensorflow:No training configuration found in save file, so the model was *not* compiled. Compile it manually.\n",
      "<bound method Model.summary of <tensorflow.python.keras.engine.functional.Functional object at 0x000002550A4A4D90>>\n"
     ]
    }
   ],
   "source": [
    "encoder = tf.keras.models.load_model(r'C:\\\\Users\\\\ricky\\\\FYP\\\\RNNAE_public\\\\RNN_encoder_model')\n",
    "print(encoder.summary)"
   ]
  },
  {
   "cell_type": "code",
   "execution_count": 3,
   "metadata": {},
   "outputs": [],
   "source": [
    "os.chdir(r'C:\\\\Users\\\\ricky\\\\FYP\\\\RNNAE_public\\\\RNN_npy')\n",
    "\n",
    "def import_data(x):\n",
    "\n",
    "    x = np.load(f'{x}.npy', allow_pickle=True)\n",
    "    x = np.asarray(x).astype('float32')\n",
    "\n",
    "    return x\n",
    "\n",
    "input = import_data('input')\n",
    "input_train = import_data('input_train')\n",
    "input_test = import_data('input_test')\n",
    "type_train = import_data('type_train')\n",
    "type_test = import_data('type_test')\n",
    "mask_train = import_data('mask_train')\n",
    "mask_test = import_data('mask_test')"
   ]
  },
  {
   "cell_type": "code",
   "execution_count": 7,
   "metadata": {},
   "outputs": [],
   "source": [
    "def rnnae_test(autoencoder, input_tmp, mask_tmp):\n",
    "\n",
    "    yhat = autoencoder.predict(x=[input_tmp, mask_tmp], verbose=1)\n",
    "    yhat_loss = autoencoder.evaluate(x=[input_tmp, mask_tmp], y=None, verbose=1)\n",
    "\n",
    "    return yhat\n",
    "\n",
    "def latent_space_demo(encoder, input_tmp):\n",
    "\n",
    "    latent_space = encoder.predict(input_tmp, verbose=1)\n",
    "\n",
    "    os.chdir('C:\\\\Users\\\\ricky\\\\FYP\\\\RNNAE_public\\\\RNN_latent_space_graph')\n",
    "\n",
    "    for i in range(latent_space.shape[1] - 1):\n",
    "        plt.grid()\n",
    "        plt.scatter(latent_space[:,i], latent_space[:,i+1], s=8)\n",
    "        plt.savefig(f'id_{i}_vs_id_{i+1}.pdf')\n",
    "        plt.clf()\n",
    "\n",
    "    return latent_space\n",
    "\n",
    "def isolation_forest(latent_space, split):\n",
    "\n",
    "    clf = IsolationForest(n_estimators=10, warm_start=True)\n",
    "    clf.fit(latent_space)\n",
    "    anomaly = clf.score_samples(latent_space)\n",
    "    anomaly_id = np.argsort(anomaly)\n",
    "\n",
    "    #os.chdir('/home/ricky/RNNAE/RNN_anomaly_graph')\n",
    "    #os.chdir(r'C:\\Users\\ricky\\FYP\\RNN_anomaly_graph')\n",
    "\n",
    "    for i, ano in enumerate(anomaly_id):\n",
    "        #shutil.copy(f'/home/ricky/RNNAE/GP_graph/{data_GP[i+split][-1]}.pdf', f'/home/ricky/RNNAE/RNN_anomaly_graph/')\n",
    "        shutil.copy(f'C:\\\\Users\\\\ricky\\\\FYP\\\\RNNAE_public\\\\GP_graph\\\\{data_GP[ano+split][-1]}.pdf', f'C:\\\\Users\\\\ricky\\\\FYP\\\\RNNAE_public\\\\RNN_anomaly_graph\\\\{i}_{data_GP[ano+split][-1]}.pdf')\n",
    "\n",
    "    return anomaly\n",
    "\n",
    "def reconstruction_graph(input_tmp, yhat, split, filters=['u', 'g', 'i']):\n",
    "\n",
    "    color1 = ['darkviolet', 'seagreen', 'crimson', 'maroon']\n",
    "    color2 = ['darkmagenta', 'darkgreen', 'firebrick', 'darkred']\n",
    "\n",
    "    for i in range(input_tmp.shape[0]):\n",
    "\n",
    "        os.chdir(r'C:\\\\Users\\\\ricky\\\\FYP\\\\RNNAE_public\\\\RNN_reconstruction_graph')\n",
    "\n",
    "        isExist = os.path.exists(f'.\\\\{data_GP[i][-1]}')\n",
    "\n",
    "        if not isExist:\n",
    "            os.makedirs(f'.\\\\{data_GP[i][-1]}')\n",
    "            os.chdir(f'.\\\\{data_GP[i][-1]}')\n",
    "\n",
    "        for j, filter in enumerate(filters):\n",
    "            fig = plt.figure(figsize=(12, 8))\n",
    "            ax = fig.add_subplot(1, 1, 1)\n",
    "\n",
    "            plt.gca().invert_yaxis()\n",
    "\n",
    "            # And a corresponding grid\n",
    "            ax.grid(which='major', alpha=0.8)\n",
    "            ax.grid(which='minor', alpha=0.3)\n",
    "\n",
    "            plt.xlabel('Timestep', fontsize=15)\n",
    "            plt.ylabel('Absolute Magnitude', fontsize=15)\n",
    "\n",
    "            plt.xlim(-50, 185)\n",
    "\n",
    "            plt.title(f'{data_GP[i+split][-1]}, {data_GP[i+split][-2]}, {filter}')\n",
    "\n",
    "            #plt.errorbar(data_GP[i+split][0], data_GP[i+split][j+1], y_err=data_GP[i+split][j+4], fmt='v')\n",
    "\n",
    "            plt.scatter(input_tmp[i,:,0], input_tmp[i,:,j+1], s=2, marker='o', color=color1[j], label=f'test data'.format('o'))\n",
    "            plt.scatter(input_tmp[i,:,0], yhat[i,:,j], s=12, marker='X', color=color2[j], label=f'reconstruction'.format('x'))\n",
    "            \n",
    "            plt.legend()\n",
    "\n",
    "            plt.savefig(f'.\\\\{data_GP[i][-1]}_{filter}_band.pdf')\n",
    "\n",
    "            plt.close()\n",
    "\n",
    "    return"
   ]
  },
  {
   "cell_type": "code",
   "execution_count": 8,
   "metadata": {},
   "outputs": [
    {
     "name": "stdout",
     "output_type": "stream",
     "text": [
      "8/8 [==============================] - 0s 59ms/step\n",
      "8/8 [==============================] - 3s 37ms/step - loss: 0.0045\n"
     ]
    },
    {
     "ename": "NameError",
     "evalue": "name 'encoder' is not defined",
     "output_type": "error",
     "traceback": [
      "\u001b[1;31m---------------------------------------------------------------------------\u001b[0m",
      "\u001b[1;31mNameError\u001b[0m                                 Traceback (most recent call last)",
      "\u001b[1;32m<ipython-input-8-3cf4877dc9e3>\u001b[0m in \u001b[0;36m<module>\u001b[1;34m\u001b[0m\n\u001b[0;32m      1\u001b[0m \u001b[0myhat\u001b[0m \u001b[1;33m=\u001b[0m \u001b[0mrnnae_test\u001b[0m\u001b[1;33m(\u001b[0m\u001b[0mautoencoder\u001b[0m\u001b[1;33m,\u001b[0m \u001b[0minput_test\u001b[0m\u001b[1;33m[\u001b[0m\u001b[1;36m0\u001b[0m\u001b[1;33m]\u001b[0m\u001b[1;33m,\u001b[0m \u001b[0mmask_test\u001b[0m\u001b[1;33m)\u001b[0m\u001b[1;33m\u001b[0m\u001b[1;33m\u001b[0m\u001b[0m\n\u001b[1;32m----> 2\u001b[1;33m \u001b[0mlatent_space\u001b[0m \u001b[1;33m=\u001b[0m \u001b[0mlatent_space_demo\u001b[0m\u001b[1;33m(\u001b[0m\u001b[0mencoder\u001b[0m\u001b[1;33m,\u001b[0m \u001b[0minput_train\u001b[0m\u001b[1;33m[\u001b[0m\u001b[1;36m0\u001b[0m\u001b[1;33m]\u001b[0m\u001b[1;33m)\u001b[0m\u001b[1;33m\u001b[0m\u001b[1;33m\u001b[0m\u001b[0m\n\u001b[0m\u001b[0;32m      3\u001b[0m \u001b[0manomalies\u001b[0m \u001b[1;33m=\u001b[0m \u001b[0misolation_forest\u001b[0m\u001b[1;33m(\u001b[0m\u001b[0mlatent_space\u001b[0m\u001b[1;33m,\u001b[0m \u001b[1;36m0\u001b[0m\u001b[1;33m)\u001b[0m\u001b[1;33m\u001b[0m\u001b[1;33m\u001b[0m\u001b[0m\n\u001b[0;32m      4\u001b[0m \u001b[0mreconstruction_graph\u001b[0m\u001b[1;33m(\u001b[0m\u001b[0minput_test\u001b[0m\u001b[1;33m[\u001b[0m\u001b[1;36m0\u001b[0m\u001b[1;33m]\u001b[0m\u001b[1;33m,\u001b[0m \u001b[0myhat\u001b[0m\u001b[1;33m,\u001b[0m \u001b[0mint\u001b[0m\u001b[1;33m(\u001b[0m\u001b[1;36m0.8\u001b[0m\u001b[1;33m*\u001b[0m\u001b[1;33m(\u001b[0m\u001b[0mdata_GP\u001b[0m\u001b[1;33m.\u001b[0m\u001b[0mshape\u001b[0m\u001b[1;33m[\u001b[0m\u001b[1;36m0\u001b[0m\u001b[1;33m]\u001b[0m\u001b[1;33m)\u001b[0m\u001b[1;33m)\u001b[0m\u001b[1;33m)\u001b[0m\u001b[1;33m\u001b[0m\u001b[1;33m\u001b[0m\u001b[0m\n",
      "\u001b[1;31mNameError\u001b[0m: name 'encoder' is not defined"
     ]
    }
   ],
   "source": [
    "yhat = rnnae_test(autoencoder, input_test[0], mask_test)\n",
    "latent_space = latent_space_demo(encoder, input_train[0])\n",
    "anomalies = isolation_forest(latent_space, 0)\n",
    "reconstruction_graph(input_test[0], yhat, int(0.8*(data_GP.shape[0])))"
   ]
  }
 ],
 "metadata": {
  "interpreter": {
   "hash": "6fd5f9b1e866c99d651d9463042ecc141ef8b22e3ba40cca842d175b0faf240e"
  },
  "kernelspec": {
   "display_name": "Python 3.8.5 64-bit ('pytorch_gpu': conda)",
   "language": "python",
   "name": "python3"
  },
  "language_info": {
   "codemirror_mode": {
    "name": "ipython",
    "version": 3
   },
   "file_extension": ".py",
   "mimetype": "text/x-python",
   "name": "python",
   "nbconvert_exporter": "python",
   "pygments_lexer": "ipython3",
   "version": "3.8.5"
  },
  "orig_nbformat": 4
 },
 "nbformat": 4,
 "nbformat_minor": 2
}
