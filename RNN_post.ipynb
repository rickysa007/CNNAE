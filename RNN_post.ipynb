{
 "cells": [
  {
   "cell_type": "code",
   "execution_count": 1,
   "metadata": {},
   "outputs": [],
   "source": [
    "import os\n",
    "import numpy as np\n",
    "import keras\n",
    "import matplotlib.pyplot as plt\n",
    "import shutil\n",
    "from keras.models import Sequential\n",
    "from keras.layers import LSTM, GRU, Dense, Dropout, Layer, Bidirectional, Conv2D, Flatten, BatchNormalization\n",
    "from keras.layers import RepeatVector, concatenate\n",
    "from keras.layers import TimeDistributed\n",
    "from keras.callbacks import EarlyStopping\n",
    "from keras.utils.vis_utils import plot_model\n",
    "from keras.optimizers import Adam\n",
    "from sklearn.ensemble import IsolationForest\n",
    "import keras.backend as K\n",
    "import tensorflow as tf"
   ]
  },
  {
   "cell_type": "code",
   "execution_count": 2,
   "metadata": {},
   "outputs": [
    {
     "data": {
      "text/plain": [
       "<bound method Model.summary of <tensorflow.python.keras.engine.functional.Functional object at 0x000001B181EDAE20>>"
      ]
     },
     "execution_count": 2,
     "metadata": {},
     "output_type": "execute_result"
    }
   ],
   "source": [
    "autoencoder = tf.keras.models.load_model(r'C:\\\\Users\\\\ricky\\\\FYP\\\\RNNAE_public\\\\RNN_autoencoder_model')\n",
    "autoencoder.summary"
   ]
  },
  {
   "cell_type": "code",
   "execution_count": 5,
   "metadata": {},
   "outputs": [],
   "source": [
    "os.chdir(r'C:\\\\Users\\\\ricky\\\\FYP\\\\RNNAE_public\\\\RNN_npy')\n",
    "input_test = np.load('input_test.npy', allow_pickle=True)\n",
    "mask_test = np.load('mask_test.npy', allow_pickle=True)\n",
    "input_test = np.asarray(input_test).astype('float32')\n",
    "mask_test = np.asarray(mask_test).astype('float32')"
   ]
  },
  {
   "cell_type": "code",
   "execution_count": 7,
   "metadata": {},
   "outputs": [
    {
     "name": "stdout",
     "output_type": "stream",
     "text": [
      "8/8 [==============================] - 1s 71ms/step\n"
     ]
    }
   ],
   "source": [
    "yhat = autoencoder.predict(x=[input_test[0], mask_test], verbose=1)"
   ]
  }
 ],
 "metadata": {
  "interpreter": {
   "hash": "6fd5f9b1e866c99d651d9463042ecc141ef8b22e3ba40cca842d175b0faf240e"
  },
  "kernelspec": {
   "display_name": "Python 3.8.5 64-bit ('pytorch_gpu': conda)",
   "language": "python",
   "name": "python3"
  },
  "language_info": {
   "codemirror_mode": {
    "name": "ipython",
    "version": 3
   },
   "file_extension": ".py",
   "mimetype": "text/x-python",
   "name": "python",
   "nbconvert_exporter": "python",
   "pygments_lexer": "ipython3",
   "version": "3.8.5"
  },
  "orig_nbformat": 4
 },
 "nbformat": 4,
 "nbformat_minor": 2
}
